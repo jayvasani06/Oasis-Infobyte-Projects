{
  "nbformat": 4,
  "nbformat_minor": 0,
  "metadata": {
    "colab": {
      "provenance": [],
      "authorship_tag": "ABX9TyNlyB4K+P/Zj5z1/Id/hc9G",
      "include_colab_link": true
    },
    "kernelspec": {
      "name": "python3",
      "display_name": "Python 3"
    },
    "language_info": {
      "name": "python"
    }
  },
  "cells": [
    {
      "cell_type": "markdown",
      "metadata": {
        "id": "view-in-github",
        "colab_type": "text"
      },
      "source": [
        "<a href=\"https://colab.research.google.com/github/jayvasani06/Oasis-Infobyte-Projects/blob/main/Untitled0.ipynb\" target=\"_parent\"><img src=\"https://colab.research.google.com/assets/colab-badge.svg\" alt=\"Open In Colab\"/></a>"
      ]
    },
    {
      "cell_type": "code",
      "execution_count": 1,
      "metadata": {
        "id": "ohBCS4QYOQef"
      },
      "outputs": [],
      "source": [
        "ticket_price = 90\n",
        "wallet_size = 100"
      ]
    },
    {
      "cell_type": "code",
      "source": [
        "if ticket_price >= wallet_size:\n",
        "  print(\"hurray,i go to this movie!\")\n",
        "else:\n",
        "  print(\"sad,i don't have money\")"
      ],
      "metadata": {
        "colab": {
          "base_uri": "https://localhost:8080/"
        },
        "id": "OXGyw8A7Ryyi",
        "outputId": "51b322fa-a320-422d-f2b3-aab3ed9ba568"
      },
      "execution_count": 5,
      "outputs": [
        {
          "output_type": "stream",
          "name": "stdout",
          "text": [
            "sad,i don't have money\n"
          ]
        }
      ]
    }
  ]
}